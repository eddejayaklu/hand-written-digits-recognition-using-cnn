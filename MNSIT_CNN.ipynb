{
 "cells": [
  {
   "cell_type": "code",
   "execution_count": 107,
   "id": "628ec6d6",
   "metadata": {},
   "outputs": [],
   "source": [
    "import tensorflow as tf\n",
    "import tensorflow.compat.v1 as tf\n",
    "tf.disable_v2_behavior()\n",
    "import matplotlib.pyplot as plt"
   ]
  },
  {
   "cell_type": "code",
   "execution_count": 108,
   "id": "e1e6549d",
   "metadata": {},
   "outputs": [],
   "source": [
    "from keras.layers.convolutional import Conv2D\n",
    "from keras.layers import MaxPooling2D\n",
    "from keras.layers import  Flatten\n",
    "from keras.layers import Input\n"
   ]
  },
  {
   "cell_type": "code",
   "execution_count": 109,
   "id": "8d8fb693",
   "metadata": {},
   "outputs": [],
   "source": [
    "from tensorflow.keras.datasets import mnist\n",
    "(x_train,y_train),(x_test,y_test)=mnist.load_data()"
   ]
  },
  {
   "cell_type": "code",
   "execution_count": 110,
   "id": "1a82d243",
   "metadata": {},
   "outputs": [],
   "source": [
    "from keras.models import Sequential "
   ]
  },
  {
   "cell_type": "code",
   "execution_count": 111,
   "id": "45e4c003",
   "metadata": {},
   "outputs": [],
   "source": [
    "from keras.layers import Dense"
   ]
  },
  {
   "cell_type": "code",
   "execution_count": 112,
   "id": "b47f36bd",
   "metadata": {},
   "outputs": [
    {
     "data": {
      "text/plain": [
       "((60000, 28, 28), (10000, 28, 28))"
      ]
     },
     "execution_count": 112,
     "metadata": {},
     "output_type": "execute_result"
    }
   ],
   "source": [
    "x_train.shape , x_test.shape"
   ]
  },
  {
   "cell_type": "code",
   "execution_count": 113,
   "id": "8b7a6017",
   "metadata": {},
   "outputs": [],
   "source": [
    "x_train = x_train.reshape(x_train.shape[0], 28, 28, 1)\n",
    "x_test=x_test.reshape(x_test.shape[0],28,28,1)"
   ]
  },
  {
   "cell_type": "code",
   "execution_count": 114,
   "id": "b0b6bae5",
   "metadata": {},
   "outputs": [
    {
     "data": {
      "text/plain": [
       "(10000, 28, 28, 1)"
      ]
     },
     "execution_count": 114,
     "metadata": {},
     "output_type": "execute_result"
    }
   ],
   "source": [
    "x_test.shape"
   ]
  },
  {
   "cell_type": "code",
   "execution_count": 115,
   "id": "cb501d5d",
   "metadata": {},
   "outputs": [],
   "source": [
    "x_train=x_train.astype(\"float32\")\n",
    "x_test = x_test.astype(\"float32\")"
   ]
  },
  {
   "cell_type": "code",
   "execution_count": 116,
   "id": "62e8b827",
   "metadata": {},
   "outputs": [],
   "source": [
    "x_train=x_train/255"
   ]
  },
  {
   "cell_type": "code",
   "execution_count": 117,
   "id": "a84c2940",
   "metadata": {},
   "outputs": [],
   "source": [
    "x_test=x_test/255"
   ]
  },
  {
   "cell_type": "code",
   "execution_count": 118,
   "id": "43346246",
   "metadata": {},
   "outputs": [],
   "source": [
    "model=Sequential()"
   ]
  },
  {
   "cell_type": "code",
   "execution_count": 119,
   "id": "e1c38b3f",
   "metadata": {
    "scrolled": true
   },
   "outputs": [],
   "source": [
    "model.add(Input(shape=(28,28,1)))\n",
    "model.add(Conv2D(32, kernel_size=(3, 3), activation=\"relu\"))\n",
    "model.add(MaxPooling2D(pool_size=(2,2)))         \n",
    "model.add(Conv2D(64,kernel_size=(3,3),activation=\"relu\"))\n",
    "model.add(MaxPooling2D(pool_size=(2,2)))\n",
    "model.add(Flatten())\n",
    "model.add(Dense(100,activation=\"relu\"))\n",
    "model.add(Dense(10,activation=\"softmax\"))\n"
   ]
  },
  {
   "cell_type": "code",
   "execution_count": 120,
   "id": "147a6d0a",
   "metadata": {},
   "outputs": [],
   "source": [
    "model.compile(loss=\"sparse_categorical_crossentropy\",optimizer=\"adam\",metrics=[\"accuracy\"])"
   ]
  },
  {
   "cell_type": "code",
   "execution_count": 121,
   "id": "3a5db3b9",
   "metadata": {},
   "outputs": [
    {
     "name": "stdout",
     "output_type": "stream",
     "text": [
      "Train on 60000 samples\n",
      "Epoch 1/25\n",
      "60000/60000 [==============================] - 25s 414us/sample - loss: 0.1918 - acc: 0.9431\n",
      "Epoch 2/25\n",
      "60000/60000 [==============================] - 27s 449us/sample - loss: 0.0564 - acc: 0.9829\n",
      "Epoch 3/25\n",
      "60000/60000 [==============================] - 28s 474us/sample - loss: 0.0388 - acc: 0.9880 - loss: 0.0389 - acc: 0.9\n",
      "Epoch 4/25\n",
      "60000/60000 [==============================] - 27s 448us/sample - loss: 0.0292 - acc: 0.9912\n",
      "Epoch 5/25\n",
      "60000/60000 [==============================] - 27s 449us/sample - loss: 0.0222 - acc: 0.9925\n",
      "Epoch 6/25\n",
      "60000/60000 [==============================] - 27s 453us/sample - loss: 0.0174 - acc: 0.9945\n",
      "Epoch 7/25\n",
      "60000/60000 [==============================] - 27s 453us/sample - loss: 0.0134 - acc: 0.9957\n",
      "Epoch 8/25\n",
      "60000/60000 [==============================] - 27s 454us/sample - loss: 0.0106 - acc: 0.9963\n",
      "Epoch 9/25\n",
      "60000/60000 [==============================] - 27s 455us/sample - loss: 0.0088 - acc: 0.9969\n",
      "Epoch 10/25\n",
      "60000/60000 [==============================] - 28s 460us/sample - loss: 0.0079 - acc: 0.9973\n",
      "Epoch 11/25\n",
      "60000/60000 [==============================] - 27s 458us/sample - loss: 0.0062 - acc: 0.9979\n",
      "Epoch 12/25\n",
      "60000/60000 [==============================] - 28s 473us/sample - loss: 0.0062 - acc: 0.9980\n",
      "Epoch 13/25\n",
      "60000/60000 [==============================] - 28s 468us/sample - loss: 0.0050 - acc: 0.9984\n",
      "Epoch 14/25\n",
      "60000/60000 [==============================] - 29s 476us/sample - loss: 0.0054 - acc: 0.9981\n",
      "Epoch 15/25\n",
      "60000/60000 [==============================] - 28s 465us/sample - loss: 0.0040 - acc: 0.9987\n",
      "Epoch 16/25\n",
      "60000/60000 [==============================] - 28s 467us/sample - loss: 0.0047 - acc: 0.9985\n",
      "Epoch 17/25\n",
      "60000/60000 [==============================] - 28s 472us/sample - loss: 0.0035 - acc: 0.9988\n",
      "Epoch 18/25\n",
      "60000/60000 [==============================] - 28s 474us/sample - loss: 0.0035 - acc: 0.9988\n",
      "Epoch 19/25\n",
      "60000/60000 [==============================] - 28s 474us/sample - loss: 0.0037 - acc: 0.9989\n",
      "Epoch 20/25\n",
      "60000/60000 [==============================] - 29s 476us/sample - loss: 0.0023 - acc: 0.9993\n",
      "Epoch 21/25\n",
      "60000/60000 [==============================] - 29s 488us/sample - loss: 0.0043 - acc: 0.9986\n",
      "Epoch 22/25\n",
      "60000/60000 [==============================] - 30s 500us/sample - loss: 0.0018 - acc: 0.9994\n",
      "Epoch 23/25\n",
      "60000/60000 [==============================] - 29s 492us/sample - loss: 0.0025 - acc: 0.9993\n",
      "Epoch 24/25\n",
      "60000/60000 [==============================] - 30s 500us/sample - loss: 0.0035 - acc: 0.9989\n",
      "Epoch 25/25\n",
      "60000/60000 [==============================] - 29s 489us/sample - loss: 0.0020 - acc: 0.9993\n"
     ]
    },
    {
     "data": {
      "text/plain": [
       "<keras.callbacks.History at 0x2259c5c37c0>"
      ]
     },
     "execution_count": 121,
     "metadata": {},
     "output_type": "execute_result"
    }
   ],
   "source": [
    "model.fit(x_train,y_train,batch_size=100,epochs=25)"
   ]
  },
  {
   "cell_type": "code",
   "execution_count": 122,
   "id": "6734963f",
   "metadata": {},
   "outputs": [
    {
     "name": "stderr",
     "output_type": "stream",
     "text": [
      "C:\\Users\\VAMSI\\anaconda3\\lib\\site-packages\\keras\\engine\\training.py:2470: UserWarning: `Model.state_updates` will be removed in a future version. This property should not be used in TensorFlow 2.0, as `updates` are applied automatically.\n",
      "  warnings.warn('`Model.state_updates` will be removed in a future version. '\n"
     ]
    }
   ],
   "source": [
    "score=model.evaluate(x_test,y_test)"
   ]
  },
  {
   "cell_type": "code",
   "execution_count": 123,
   "id": "34b2f9b3",
   "metadata": {},
   "outputs": [
    {
     "name": "stdout",
     "output_type": "stream",
     "text": [
      "[0.039037699769230244, 0.992]\n"
     ]
    }
   ],
   "source": [
    "print(score)"
   ]
  }
 ],
 "metadata": {
  "kernelspec": {
   "display_name": "Python 3",
   "language": "python",
   "name": "python3"
  },
  "language_info": {
   "codemirror_mode": {
    "name": "ipython",
    "version": 3
   },
   "file_extension": ".py",
   "mimetype": "text/x-python",
   "name": "python",
   "nbconvert_exporter": "python",
   "pygments_lexer": "ipython3",
   "version": "3.8.8"
  }
 },
 "nbformat": 4,
 "nbformat_minor": 5
}
